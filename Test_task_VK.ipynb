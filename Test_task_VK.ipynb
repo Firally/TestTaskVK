{
 "cells": [
  {
   "cell_type": "markdown",
   "id": "978ee7c1",
   "metadata": {},
   "source": [
    "# Тестовое задание VK"
   ]
  },
  {
   "cell_type": "code",
   "execution_count": 1,
   "id": "db25318f",
   "metadata": {},
   "outputs": [],
   "source": [
    "import pandas as pd\n",
    "from catboost import CatBoostRanker, Pool\n",
    "from sklearn.metrics import ndcg_score\n",
    "from sklearn.model_selection import train_test_split\n",
    "from copy import deepcopy\n",
    "import numpy as np"
   ]
  },
  {
   "cell_type": "code",
   "execution_count": 2,
   "id": "23991a50",
   "metadata": {},
   "outputs": [],
   "source": [
    "train_df = pd.read_csv('train_df.csv')\n",
    "test_df = pd.read_csv('test_df.csv')"
   ]
  },
  {
   "cell_type": "code",
   "execution_count": 3,
   "id": "46fb0770",
   "metadata": {},
   "outputs": [
    {
     "data": {
      "text/html": [
       "<div>\n",
       "<style scoped>\n",
       "    .dataframe tbody tr th:only-of-type {\n",
       "        vertical-align: middle;\n",
       "    }\n",
       "\n",
       "    .dataframe tbody tr th {\n",
       "        vertical-align: top;\n",
       "    }\n",
       "\n",
       "    .dataframe thead th {\n",
       "        text-align: right;\n",
       "    }\n",
       "</style>\n",
       "<table border=\"1\" class=\"dataframe\">\n",
       "  <thead>\n",
       "    <tr style=\"text-align: right;\">\n",
       "      <th></th>\n",
       "      <th>search_id</th>\n",
       "      <th>feature_0</th>\n",
       "      <th>feature_1</th>\n",
       "      <th>feature_2</th>\n",
       "      <th>feature_3</th>\n",
       "      <th>feature_4</th>\n",
       "      <th>feature_5</th>\n",
       "      <th>feature_6</th>\n",
       "      <th>feature_7</th>\n",
       "      <th>feature_8</th>\n",
       "      <th>...</th>\n",
       "      <th>feature_70</th>\n",
       "      <th>feature_71</th>\n",
       "      <th>feature_72</th>\n",
       "      <th>feature_73</th>\n",
       "      <th>feature_74</th>\n",
       "      <th>feature_75</th>\n",
       "      <th>feature_76</th>\n",
       "      <th>feature_77</th>\n",
       "      <th>feature_78</th>\n",
       "      <th>target</th>\n",
       "    </tr>\n",
       "  </thead>\n",
       "  <tbody>\n",
       "    <tr>\n",
       "      <th>0</th>\n",
       "      <td>758</td>\n",
       "      <td>9</td>\n",
       "      <td>0</td>\n",
       "      <td>0</td>\n",
       "      <td>1</td>\n",
       "      <td>20</td>\n",
       "      <td>3</td>\n",
       "      <td>40</td>\n",
       "      <td>0</td>\n",
       "      <td>3</td>\n",
       "      <td>...</td>\n",
       "      <td>0.204682</td>\n",
       "      <td>0.271755</td>\n",
       "      <td>0.055623</td>\n",
       "      <td>0</td>\n",
       "      <td>0</td>\n",
       "      <td>0</td>\n",
       "      <td>0.38648</td>\n",
       "      <td>0.0</td>\n",
       "      <td>0.0</td>\n",
       "      <td>0</td>\n",
       "    </tr>\n",
       "    <tr>\n",
       "      <th>1</th>\n",
       "      <td>758</td>\n",
       "      <td>9</td>\n",
       "      <td>0</td>\n",
       "      <td>0</td>\n",
       "      <td>1</td>\n",
       "      <td>20</td>\n",
       "      <td>3</td>\n",
       "      <td>40</td>\n",
       "      <td>0</td>\n",
       "      <td>3</td>\n",
       "      <td>...</td>\n",
       "      <td>0.195531</td>\n",
       "      <td>0.188787</td>\n",
       "      <td>0.036914</td>\n",
       "      <td>0</td>\n",
       "      <td>0</td>\n",
       "      <td>0</td>\n",
       "      <td>0.10982</td>\n",
       "      <td>0.0</td>\n",
       "      <td>0.0</td>\n",
       "      <td>0</td>\n",
       "    </tr>\n",
       "    <tr>\n",
       "      <th>2</th>\n",
       "      <td>758</td>\n",
       "      <td>9</td>\n",
       "      <td>0</td>\n",
       "      <td>0</td>\n",
       "      <td>1</td>\n",
       "      <td>20</td>\n",
       "      <td>3</td>\n",
       "      <td>40</td>\n",
       "      <td>0</td>\n",
       "      <td>3</td>\n",
       "      <td>...</td>\n",
       "      <td>0.148609</td>\n",
       "      <td>0.186517</td>\n",
       "      <td>0.027718</td>\n",
       "      <td>0</td>\n",
       "      <td>0</td>\n",
       "      <td>0</td>\n",
       "      <td>0.03674</td>\n",
       "      <td>0.0</td>\n",
       "      <td>0.0</td>\n",
       "      <td>0</td>\n",
       "    </tr>\n",
       "    <tr>\n",
       "      <th>3</th>\n",
       "      <td>758</td>\n",
       "      <td>9</td>\n",
       "      <td>0</td>\n",
       "      <td>0</td>\n",
       "      <td>1</td>\n",
       "      <td>20</td>\n",
       "      <td>3</td>\n",
       "      <td>40</td>\n",
       "      <td>0</td>\n",
       "      <td>3</td>\n",
       "      <td>...</td>\n",
       "      <td>0.223748</td>\n",
       "      <td>0.229039</td>\n",
       "      <td>0.051247</td>\n",
       "      <td>0</td>\n",
       "      <td>0</td>\n",
       "      <td>0</td>\n",
       "      <td>0.00000</td>\n",
       "      <td>0.0</td>\n",
       "      <td>0.0</td>\n",
       "      <td>0</td>\n",
       "    </tr>\n",
       "    <tr>\n",
       "      <th>4</th>\n",
       "      <td>758</td>\n",
       "      <td>9</td>\n",
       "      <td>0</td>\n",
       "      <td>0</td>\n",
       "      <td>1</td>\n",
       "      <td>20</td>\n",
       "      <td>3</td>\n",
       "      <td>40</td>\n",
       "      <td>0</td>\n",
       "      <td>3</td>\n",
       "      <td>...</td>\n",
       "      <td>0.170935</td>\n",
       "      <td>0.249031</td>\n",
       "      <td>0.042568</td>\n",
       "      <td>0</td>\n",
       "      <td>0</td>\n",
       "      <td>0</td>\n",
       "      <td>0.00000</td>\n",
       "      <td>0.0</td>\n",
       "      <td>0.0</td>\n",
       "      <td>0</td>\n",
       "    </tr>\n",
       "  </tbody>\n",
       "</table>\n",
       "<p>5 rows × 81 columns</p>\n",
       "</div>"
      ],
      "text/plain": [
       "   search_id  feature_0  feature_1  feature_2  feature_3  feature_4  \\\n",
       "0        758          9          0          0          1         20   \n",
       "1        758          9          0          0          1         20   \n",
       "2        758          9          0          0          1         20   \n",
       "3        758          9          0          0          1         20   \n",
       "4        758          9          0          0          1         20   \n",
       "\n",
       "   feature_5  feature_6  feature_7  feature_8  ...  feature_70  feature_71  \\\n",
       "0          3         40          0          3  ...    0.204682    0.271755   \n",
       "1          3         40          0          3  ...    0.195531    0.188787   \n",
       "2          3         40          0          3  ...    0.148609    0.186517   \n",
       "3          3         40          0          3  ...    0.223748    0.229039   \n",
       "4          3         40          0          3  ...    0.170935    0.249031   \n",
       "\n",
       "   feature_72  feature_73  feature_74  feature_75  feature_76  feature_77  \\\n",
       "0    0.055623           0           0           0     0.38648         0.0   \n",
       "1    0.036914           0           0           0     0.10982         0.0   \n",
       "2    0.027718           0           0           0     0.03674         0.0   \n",
       "3    0.051247           0           0           0     0.00000         0.0   \n",
       "4    0.042568           0           0           0     0.00000         0.0   \n",
       "\n",
       "   feature_78  target  \n",
       "0         0.0       0  \n",
       "1         0.0       0  \n",
       "2         0.0       0  \n",
       "3         0.0       0  \n",
       "4         0.0       0  \n",
       "\n",
       "[5 rows x 81 columns]"
      ]
     },
     "execution_count": 3,
     "metadata": {},
     "output_type": "execute_result"
    }
   ],
   "source": [
    "train_df.head()"
   ]
  },
  {
   "cell_type": "code",
   "execution_count": 4,
   "id": "58f12c68",
   "metadata": {},
   "outputs": [],
   "source": [
    "queries = train_df['search_id'].unique()"
   ]
  },
  {
   "cell_type": "markdown",
   "id": "4d5e6839",
   "metadata": {},
   "source": [
    "Выберем из тренировочного датасета несколько групп для валидации модели"
   ]
  },
  {
   "cell_type": "code",
   "execution_count": 5,
   "id": "c5ee0290",
   "metadata": {},
   "outputs": [],
   "source": [
    "queries_train, queries_val = train_test_split(queries, test_size=0.2, random_state=42)"
   ]
  },
  {
   "cell_type": "code",
   "execution_count": 6,
   "id": "645ef8d3",
   "metadata": {},
   "outputs": [
    {
     "name": "stdout",
     "output_type": "stream",
     "text": [
      "Количество строк в train датасете:\t 12120\n",
      "Количество строк в val датасете:\t 2961\n",
      "Количество строк в test датасете:\t 1529\n"
     ]
    }
   ],
   "source": [
    "X_train = train_df[(train_df['search_id'].isin(queries_train))]\n",
    "X_val = train_df[(train_df['search_id'].isin(queries_val))]\n",
    "print(f\"Количество строк в train датасете:\\t {len(X_train)}\")\n",
    "print(f\"Количество строк в val датасете:\\t {len(X_val)}\")\n",
    "print(f\"Количество строк в test датасете:\\t {len(test_df)}\")"
   ]
  },
  {
   "cell_type": "code",
   "execution_count": 7,
   "id": "18f882fd",
   "metadata": {},
   "outputs": [],
   "source": [
    "queries_train = X_train['search_id'].values\n",
    "y_train = X_train['target'].values\n",
    "X_train = X_train.drop(columns=['search_id', 'target']).values\n",
    "\n",
    "queries_val = X_val['search_id'].values\n",
    "y_val = X_val['target'].values\n",
    "X_val = X_val.drop(columns=['search_id', 'target']).values\n",
    "\n",
    "queries_test = test_df['search_id'].values\n",
    "y_test = test_df['target'].values\n",
    "X_test = test_df.drop(columns=['search_id', 'target']).values"
   ]
  },
  {
   "cell_type": "code",
   "execution_count": 8,
   "id": "b32db98b",
   "metadata": {},
   "outputs": [
    {
     "name": "stdout",
     "output_type": "stream",
     "text": [
      "Количество групп в train датасете:\t 800\n",
      "Количество групп в val датасете:\t 200\n",
      "Количество групп в test датасете:\t 100\n"
     ]
    }
   ],
   "source": [
    "print(f\"Количество групп в train датасете:\\t {len(np.unique(queries_train))}\")\n",
    "print(f\"Количество групп в val датасете:\\t {len(np.unique(queries_val))}\")\n",
    "print(f\"Количество групп в test датасете:\\t {len(np.unique(queries_test))}\")"
   ]
  },
  {
   "cell_type": "code",
   "execution_count": 9,
   "id": "db75a335",
   "metadata": {},
   "outputs": [],
   "source": [
    "train = Pool(\n",
    "    data=X_train,\n",
    "    label=y_train,\n",
    "    group_id=queries_train\n",
    ")\n",
    "\n",
    "val = Pool(\n",
    "    data=X_val,\n",
    "    label=y_val,\n",
    "    group_id=queries_val\n",
    ")\n",
    "\n",
    "test = Pool(\n",
    "    data=X_test,\n",
    "    label=y_test,\n",
    "    group_id=queries_test\n",
    ")"
   ]
  },
  {
   "cell_type": "markdown",
   "id": "bf2b8a5b",
   "metadata": {},
   "source": [
    "Обучим на данных модель градиентного бустинга CatBoostRanker"
   ]
  },
  {
   "cell_type": "code",
   "execution_count": 10,
   "id": "a902fcae",
   "metadata": {},
   "outputs": [],
   "source": [
    "default_parameters = {\n",
    "    'iterations': 2000,\n",
    "    'custom_metric': ['NDCG', 'PFound', 'AverageGain:top=10'],\n",
    "    'verbose': False,\n",
    "    'random_seed': 0,\n",
    "    'early_stopping_rounds' : 100,\n",
    "}"
   ]
  },
  {
   "cell_type": "code",
   "execution_count": 11,
   "id": "bf87283e",
   "metadata": {},
   "outputs": [],
   "source": [
    "def fit_model(loss_function, additional_params=None, train_pool=train, test_pool=val):\n",
    "    parameters = deepcopy(default_parameters)\n",
    "    parameters['loss_function'] = loss_function\n",
    "    \n",
    "    if additional_params is not None:\n",
    "        parameters.update(additional_params)\n",
    "        \n",
    "    model = CatBoostRanker(**parameters)\n",
    "    model.fit(train_pool, eval_set=test_pool, plot=True)\n",
    "    \n",
    "    return model"
   ]
  },
  {
   "cell_type": "code",
   "execution_count": 12,
   "id": "214452b6",
   "metadata": {},
   "outputs": [
    {
     "data": {
      "application/vnd.jupyter.widget-view+json": {
       "model_id": "6f4c21eb6bf84ebfb54f3327938ede35",
       "version_major": 2,
       "version_minor": 0
      },
      "text/plain": [
       "MetricVisualizer(layout=Layout(align_self='stretch', height='500px'))"
      ]
     },
     "metadata": {},
     "output_type": "display_data"
    }
   ],
   "source": [
    "model = fit_model('QueryRMSE')"
   ]
  },
  {
   "cell_type": "markdown",
   "id": "fd3e8e9d",
   "metadata": {},
   "source": [
    "Оценка работы модели"
   ]
  },
  {
   "cell_type": "code",
   "execution_count": 13,
   "id": "6f9d9cc4",
   "metadata": {},
   "outputs": [
    {
     "name": "stdout",
     "output_type": "stream",
     "text": [
      "NDCG Score on Train Data: 0.9418774235741215\n",
      "NDCG Score on Val Data: 0.9037034850910662\n",
      "\n",
      "NDCG Score on Test Data: 0.9050492574016954\n"
     ]
    }
   ],
   "source": [
    "ndcg_train = model.score(X_train, y_train, group_id=queries_train, top=len(y_train))\n",
    "print(f\"NDCG Score on Train Data: {ndcg_train}\")\n",
    "ndcg_val = model.score(X_val, y_val, group_id=queries_val, top=len(y_val))\n",
    "print(f\"NDCG Score on Val Data: {ndcg_val}\")\n",
    "print()\n",
    "ndcg_test = model.score(X_test, y_test, group_id=queries_test, top=len(y_test))\n",
    "print(f\"NDCG Score on Test Data: {ndcg_test}\")"
   ]
  },
  {
   "cell_type": "code",
   "execution_count": 14,
   "id": "58650dbd",
   "metadata": {},
   "outputs": [],
   "source": [
    "model.save_model('catboost_model.cbm')"
   ]
  }
 ],
 "metadata": {
  "kernelspec": {
   "display_name": "Pytorch GPU (Python 3.10)",
   "language": "python",
   "name": "pytorch-gpu-python-3-10"
  },
  "language_info": {
   "codemirror_mode": {
    "name": "ipython",
    "version": 3
   },
   "file_extension": ".py",
   "mimetype": "text/x-python",
   "name": "python",
   "nbconvert_exporter": "python",
   "pygments_lexer": "ipython3",
   "version": "3.10.13"
  }
 },
 "nbformat": 4,
 "nbformat_minor": 5
}
